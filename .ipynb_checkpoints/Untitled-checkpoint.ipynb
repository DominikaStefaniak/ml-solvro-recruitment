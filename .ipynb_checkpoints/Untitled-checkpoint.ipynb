{
 "cells": [
  {
   "cell_type": "markdown",
   "id": "17f0d0d8-2070-4cc6-953a-45e52605e82f",
   "metadata": {},
   "source": [
    "# Cocktails"
   ]
  },
  {
   "cell_type": "code",
   "execution_count": 2,
   "id": "23988a84-d57c-475c-8d42-b82ba7658d97",
   "metadata": {},
   "outputs": [],
   "source": [
    "import pandas as pd"
   ]
  },
  {
   "cell_type": "markdown",
   "id": "c0c24ae1-20d5-4a93-ab4a-a7f42d89c618",
   "metadata": {},
   "source": [
    "#### Importing data using pandas"
   ]
  },
  {
   "cell_type": "code",
   "execution_count": 4,
   "id": "8fdee3ef-c9e5-4a7a-bcb5-88ef5b347906",
   "metadata": {},
   "outputs": [
    {
     "data": {
      "text/html": [
       "<div>\n",
       "<style scoped>\n",
       "    .dataframe tbody tr th:only-of-type {\n",
       "        vertical-align: middle;\n",
       "    }\n",
       "\n",
       "    .dataframe tbody tr th {\n",
       "        vertical-align: top;\n",
       "    }\n",
       "\n",
       "    .dataframe thead th {\n",
       "        text-align: right;\n",
       "    }\n",
       "</style>\n",
       "<table border=\"1\" class=\"dataframe\">\n",
       "  <thead>\n",
       "    <tr style=\"text-align: right;\">\n",
       "      <th></th>\n",
       "      <th>76</th>\n",
       "      <th>35</th>\n",
       "    </tr>\n",
       "  </thead>\n",
       "  <tbody>\n",
       "    <tr>\n",
       "      <th>id</th>\n",
       "      <td>11387</td>\n",
       "      <td>11064</td>\n",
       "    </tr>\n",
       "    <tr>\n",
       "      <th>name</th>\n",
       "      <td>Frozen Daiquiri</td>\n",
       "      <td>Banana Daiquiri</td>\n",
       "    </tr>\n",
       "    <tr>\n",
       "      <th>category</th>\n",
       "      <td>Ordinary Drink</td>\n",
       "      <td>Ordinary Drink</td>\n",
       "    </tr>\n",
       "    <tr>\n",
       "      <th>glass</th>\n",
       "      <td>Champagne flute</td>\n",
       "      <td>Champagne flute</td>\n",
       "    </tr>\n",
       "    <tr>\n",
       "      <th>tags</th>\n",
       "      <td>None</td>\n",
       "      <td>[Fruity]</td>\n",
       "    </tr>\n",
       "    <tr>\n",
       "      <th>instructions</th>\n",
       "      <td>Combine all ingredients (except for the cherry...</td>\n",
       "      <td>Pour all ingredients into shaker with ice cube...</td>\n",
       "    </tr>\n",
       "    <tr>\n",
       "      <th>imageUrl</th>\n",
       "      <td>https://cocktails.solvro.pl/images/ingredients...</td>\n",
       "      <td>https://cocktails.solvro.pl/images/ingredients...</td>\n",
       "    </tr>\n",
       "    <tr>\n",
       "      <th>alcoholic</th>\n",
       "      <td>1</td>\n",
       "      <td>1</td>\n",
       "    </tr>\n",
       "    <tr>\n",
       "      <th>createdAt</th>\n",
       "      <td>2024-08-18T19:08:30.000+00:00</td>\n",
       "      <td>2024-08-18T19:06:41.000+00:00</td>\n",
       "    </tr>\n",
       "    <tr>\n",
       "      <th>updatedAt</th>\n",
       "      <td>2024-08-18T19:08:30.000+00:00</td>\n",
       "      <td>2024-08-18T19:06:41.000+00:00</td>\n",
       "    </tr>\n",
       "    <tr>\n",
       "      <th>ingredients</th>\n",
       "      <td>[{'id': 106, 'name': 'Cherry', 'description': ...</td>\n",
       "      <td>[{'id': 47, 'name': 'Banana', 'description': N...</td>\n",
       "    </tr>\n",
       "  </tbody>\n",
       "</table>\n",
       "</div>"
      ],
      "text/plain": [
       "                                                             76  \\\n",
       "id                                                        11387   \n",
       "name                                            Frozen Daiquiri   \n",
       "category                                         Ordinary Drink   \n",
       "glass                                           Champagne flute   \n",
       "tags                                                       None   \n",
       "instructions  Combine all ingredients (except for the cherry...   \n",
       "imageUrl      https://cocktails.solvro.pl/images/ingredients...   \n",
       "alcoholic                                                     1   \n",
       "createdAt                         2024-08-18T19:08:30.000+00:00   \n",
       "updatedAt                         2024-08-18T19:08:30.000+00:00   \n",
       "ingredients   [{'id': 106, 'name': 'Cherry', 'description': ...   \n",
       "\n",
       "                                                             35  \n",
       "id                                                        11064  \n",
       "name                                            Banana Daiquiri  \n",
       "category                                         Ordinary Drink  \n",
       "glass                                           Champagne flute  \n",
       "tags                                                   [Fruity]  \n",
       "instructions  Pour all ingredients into shaker with ice cube...  \n",
       "imageUrl      https://cocktails.solvro.pl/images/ingredients...  \n",
       "alcoholic                                                     1  \n",
       "createdAt                         2024-08-18T19:06:41.000+00:00  \n",
       "updatedAt                         2024-08-18T19:06:41.000+00:00  \n",
       "ingredients   [{'id': 47, 'name': 'Banana', 'description': N...  "
      ]
     },
     "execution_count": 4,
     "metadata": {},
     "output_type": "execute_result"
    }
   ],
   "source": [
    "df = pd. read_json(\"C:/Users/domci/ml-solvro-recruitment1/cocktail_dataset.json\")\n",
    "\n",
    "df.sample(n=2).T"
   ]
  },
  {
   "cell_type": "code",
   "execution_count": 5,
   "id": "598d4a13-58c0-4d09-ac41-8501d5c3de63",
   "metadata": {},
   "outputs": [
    {
     "name": "stdout",
     "output_type": "stream",
     "text": [
      "<class 'pandas.core.frame.DataFrame'>\n",
      "RangeIndex: 134 entries, 0 to 133\n",
      "Data columns (total 11 columns):\n",
      " #   Column        Non-Null Count  Dtype \n",
      "---  ------        --------------  ----- \n",
      " 0   id            134 non-null    int64 \n",
      " 1   name          134 non-null    object\n",
      " 2   category      134 non-null    object\n",
      " 3   glass         134 non-null    object\n",
      " 4   tags          35 non-null     object\n",
      " 5   instructions  134 non-null    object\n",
      " 6   imageUrl      134 non-null    object\n",
      " 7   alcoholic     134 non-null    int64 \n",
      " 8   createdAt     134 non-null    object\n",
      " 9   updatedAt     134 non-null    object\n",
      " 10  ingredients   134 non-null    object\n",
      "dtypes: int64(2), object(9)\n",
      "memory usage: 11.6+ KB\n"
     ]
    }
   ],
   "source": [
    "df.info()"
   ]
  },
  {
   "cell_type": "code",
   "execution_count": 6,
   "id": "af1e5f77-afb3-48df-bdd7-7fab88c7765b",
   "metadata": {},
   "outputs": [
    {
     "data": {
      "text/html": [
       "<div>\n",
       "<style scoped>\n",
       "    .dataframe tbody tr th:only-of-type {\n",
       "        vertical-align: middle;\n",
       "    }\n",
       "\n",
       "    .dataframe tbody tr th {\n",
       "        vertical-align: top;\n",
       "    }\n",
       "\n",
       "    .dataframe thead th {\n",
       "        text-align: right;\n",
       "    }\n",
       "</style>\n",
       "<table border=\"1\" class=\"dataframe\">\n",
       "  <thead>\n",
       "    <tr style=\"text-align: right;\">\n",
       "      <th></th>\n",
       "      <th>id</th>\n",
       "      <th>alcoholic</th>\n",
       "    </tr>\n",
       "  </thead>\n",
       "  <tbody>\n",
       "    <tr>\n",
       "      <th>count</th>\n",
       "      <td>134.000000</td>\n",
       "      <td>134.0</td>\n",
       "    </tr>\n",
       "    <tr>\n",
       "      <th>mean</th>\n",
       "      <td>11344.955224</td>\n",
       "      <td>1.0</td>\n",
       "    </tr>\n",
       "    <tr>\n",
       "      <th>std</th>\n",
       "      <td>306.506605</td>\n",
       "      <td>0.0</td>\n",
       "    </tr>\n",
       "    <tr>\n",
       "      <th>min</th>\n",
       "      <td>11000.000000</td>\n",
       "      <td>1.0</td>\n",
       "    </tr>\n",
       "    <tr>\n",
       "      <th>25%</th>\n",
       "      <td>11056.250000</td>\n",
       "      <td>1.0</td>\n",
       "    </tr>\n",
       "    <tr>\n",
       "      <th>50%</th>\n",
       "      <td>11304.000000</td>\n",
       "      <td>1.0</td>\n",
       "    </tr>\n",
       "    <tr>\n",
       "      <th>75%</th>\n",
       "      <td>11538.500000</td>\n",
       "      <td>1.0</td>\n",
       "    </tr>\n",
       "    <tr>\n",
       "      <th>max</th>\n",
       "      <td>11993.000000</td>\n",
       "      <td>1.0</td>\n",
       "    </tr>\n",
       "  </tbody>\n",
       "</table>\n",
       "</div>"
      ],
      "text/plain": [
       "                 id  alcoholic\n",
       "count    134.000000      134.0\n",
       "mean   11344.955224        1.0\n",
       "std      306.506605        0.0\n",
       "min    11000.000000        1.0\n",
       "25%    11056.250000        1.0\n",
       "50%    11304.000000        1.0\n",
       "75%    11538.500000        1.0\n",
       "max    11993.000000        1.0"
      ]
     },
     "execution_count": 6,
     "metadata": {},
     "output_type": "execute_result"
    }
   ],
   "source": [
    "df.describe()"
   ]
  },
  {
   "cell_type": "markdown",
   "id": "90c47534-ef27-404c-9a7c-328c1a68767c",
   "metadata": {},
   "source": [
    "### Preliminary EDA:\n",
    "1. List datatype is not useful and needs handling in the first place\n",
    "2. A lot of values in the tags column are missing\n",
    "4. Out of 11 columns, only two of them are numeric\n",
    "5. Columns with categorical datatype needs one-hot-encoding"
   ]
  },
  {
   "cell_type": "code",
   "execution_count": 12,
   "id": "0b2cfc2c-59a4-42da-8883-27baddf6bcae",
   "metadata": {},
   "outputs": [
    {
     "data": {
      "text/html": [
       "<div>\n",
       "<style scoped>\n",
       "    .dataframe tbody tr th:only-of-type {\n",
       "        vertical-align: middle;\n",
       "    }\n",
       "\n",
       "    .dataframe tbody tr th {\n",
       "        vertical-align: top;\n",
       "    }\n",
       "\n",
       "    .dataframe thead th {\n",
       "        text-align: right;\n",
       "    }\n",
       "</style>\n",
       "<table border=\"1\" class=\"dataframe\">\n",
       "  <thead>\n",
       "    <tr style=\"text-align: right;\">\n",
       "      <th></th>\n",
       "      <th>id</th>\n",
       "      <th>name</th>\n",
       "      <th>category</th>\n",
       "      <th>glass</th>\n",
       "      <th>tags</th>\n",
       "      <th>instructions</th>\n",
       "      <th>imageUrl</th>\n",
       "      <th>alcoholic</th>\n",
       "      <th>createdAt</th>\n",
       "      <th>updatedAt</th>\n",
       "      <th>ingredients</th>\n",
       "    </tr>\n",
       "  </thead>\n",
       "  <tbody>\n",
       "    <tr>\n",
       "      <th>0</th>\n",
       "      <td>11000</td>\n",
       "      <td>Mojito</td>\n",
       "      <td>Cocktail</td>\n",
       "      <td>Highball glass</td>\n",
       "      <td>[IBA, ContemporaryClassic, Alcoholic, USA, Asi...</td>\n",
       "      <td>Muddle mint leaves with sugar and lime juice. ...</td>\n",
       "      <td>https://cocktails.solvro.pl/images/ingredients...</td>\n",
       "      <td>1</td>\n",
       "      <td>2024-08-18T19:01:17.000+00:00</td>\n",
       "      <td>2024-08-18T19:06:16.000+00:00</td>\n",
       "      <td>[{'id': 170, 'name': 'Soda water', 'descriptio...</td>\n",
       "    </tr>\n",
       "    <tr>\n",
       "      <th>1</th>\n",
       "      <td>11001</td>\n",
       "      <td>Old Fashioned</td>\n",
       "      <td>Cocktail</td>\n",
       "      <td>Old-fashioned glass</td>\n",
       "      <td>[IBA, Classic, Alcoholic, Expensive, Savory]</td>\n",
       "      <td>Place sugar cube in old fashioned glass and sa...</td>\n",
       "      <td>https://cocktails.solvro.pl/images/ingredients...</td>\n",
       "      <td>1</td>\n",
       "      <td>2024-08-18T19:01:58.000+00:00</td>\n",
       "      <td>2024-08-18T19:06:17.000+00:00</td>\n",
       "      <td>[{'id': 513, 'name': 'Water', 'description': '...</td>\n",
       "    </tr>\n",
       "  </tbody>\n",
       "</table>\n",
       "</div>"
      ],
      "text/plain": [
       "      id           name  category                glass  \\\n",
       "0  11000         Mojito  Cocktail       Highball glass   \n",
       "1  11001  Old Fashioned  Cocktail  Old-fashioned glass   \n",
       "\n",
       "                                                tags  \\\n",
       "0  [IBA, ContemporaryClassic, Alcoholic, USA, Asi...   \n",
       "1       [IBA, Classic, Alcoholic, Expensive, Savory]   \n",
       "\n",
       "                                        instructions  \\\n",
       "0  Muddle mint leaves with sugar and lime juice. ...   \n",
       "1  Place sugar cube in old fashioned glass and sa...   \n",
       "\n",
       "                                            imageUrl  alcoholic  \\\n",
       "0  https://cocktails.solvro.pl/images/ingredients...          1   \n",
       "1  https://cocktails.solvro.pl/images/ingredients...          1   \n",
       "\n",
       "                       createdAt                      updatedAt  \\\n",
       "0  2024-08-18T19:01:17.000+00:00  2024-08-18T19:06:16.000+00:00   \n",
       "1  2024-08-18T19:01:58.000+00:00  2024-08-18T19:06:17.000+00:00   \n",
       "\n",
       "                                         ingredients  \n",
       "0  [{'id': 170, 'name': 'Soda water', 'descriptio...  \n",
       "1  [{'id': 513, 'name': 'Water', 'description': '...  "
      ]
     },
     "execution_count": 12,
     "metadata": {},
     "output_type": "execute_result"
    }
   ],
   "source": [
    "df.head(n=2)"
   ]
  },
  {
   "cell_type": "code",
   "execution_count": 16,
   "id": "f9257c22-af54-486c-a78b-a91b33687a90",
   "metadata": {},
   "outputs": [
    {
     "name": "stdout",
     "output_type": "stream",
     "text": [
      "[{'id': 170, 'name': 'Soda water', 'description': None, 'alcohol': 1, 'type': None, 'percentage': None, 'imageUrl': None, 'createdAt': '2024-08-18T19:01:57.000+00:00', 'updatedAt': '2024-08-18T19:01:57.000+00:00'}, {'id': 305, 'name': 'Light Rum', 'description': 'Light rums, also referred to as \"silver\" or \"white\" rums, in general, have very little flavor aside from a general sweetness. Light rums are sometimes filtered after aging to remove any colour. The majority of light rums come from Puerto Rico. Their milder flavors make them popular for use in mixed drinks, as opposed to drinking them straight. Light rums are included in some of the most popular cocktails including the Mojito and the Daiquiri.', 'alcohol': 1, 'type': 'Rum', 'percentage': None, 'imageUrl': 'https://cocktails.solvro.pl/images/ingredients/light-rum.png', 'createdAt': '2024-08-18T19:02:37.000+00:00', 'updatedAt': '2024-08-18T19:02:37.000+00:00', 'measure': '2-3 oz '}, {'id': 312, 'name': 'Lime', 'description': 'A lime (from French lime, from Arabic līma, from Persian līmū, \"lemon\") is a hybrid citrus fruit, which is typically round, lime green, 3–6 centimetres (1.2–2.4 in) in diameter, and contains acidic juice vesicles.\\r\\n\\r\\nThere are several species of citrus trees whose fruits are called limes, including the Key lime (Citrus aurantifolia), Persian lime, kaffir lime, and desert lime. Limes are an excellent source of vitamin C, and are often used to accent the flavours of foods and beverages. They are grown year-round. Plants with fruit called \"limes\" have diverse genetic origins; limes do not form a monophyletic group.\\r\\n', 'alcohol': 0, 'type': 'Fruit', 'percentage': None, 'imageUrl': 'https://cocktails.solvro.pl/images/ingredients/lime.png', 'createdAt': '2024-08-18T19:02:40.000+00:00', 'updatedAt': '2024-08-18T19:02:40.000+00:00', 'measure': 'Juice of 1 '}, {'id': 337, 'name': 'Mint', 'description': 'Lamiaceae (/ˌleɪmiˈeɪsiˌaɪ/ or /ˌleɪmiˈeɪsiiː/) or Labiatae is a family of flowering plants commonly known as the mint or deadnettle family. Many of the plants are aromatic in all parts and include widely used culinary herbs, such as basil, mint, rosemary, sage, savory, marjoram, oregano, hyssop, thyme, lavender, and perilla. Some species are shrubs, trees (such as teak), or, rarely, vines. Many members of the family are widely cultivated, not only for their aromatic qualities but also their ease of cultivation, since they are readily propagated by stem cuttings. Besides those grown for their edible leaves, some are grown for decorative foliage, such as Coleus. Others are grown for seed, such as Salvia hispanica (chia), or for their edible tubers, such as Plectranthus edulis, Plectranthus esculentus, Plectranthus rotundifolius, and Stachys affinis (Chinese artichoke).\\r\\n\\r\\nThe family has a cosmopolitan distribution. The enlarged Lamiaceae contains about 236 genera and has been stated to contain 6,900 to 7,200 species, but the World Checklist lists 7,534. The largest genera are Salvia (900), Scutellaria (360), Stachys (300), Plectranthus (300), Hyptis (280), Teucrium (250), Vitex (250), Thymus (220), and Nepeta (200). Clerodendrum was once a genus of over 400 species, but by 2010, it had been narrowed to about 150.\\r\\n\\r\\nThe family has traditionally been considered closely related to the Verbenaceae; in the 1990s, phylogenetic studies suggested that many genera classified in the Verbenaceae should be classified in the Lamiaceae  or to other families in the order Lamiales.\\r\\n\\r\\nThe alternate family name Labiatae refers to the fact that the flowers typically have petals fused into an upper lip and a lower lip (labia in Latin). The flowers are bilaterally symmetrical with five united petals and five united sepals. They are usually bisexual and verticillastrate (a flower cluster that looks like a whorl of flowers, but actually consists of two crowded clusters). Although this is still considered an acceptable alternative name, most botanists now use the name Lamiaceae in referring to this family. The leaves emerge oppositely, each pair at right angles to the previous one (decussate) or whorled. The stems are frequently square in cross section, but this is not found in all members of the family, and is sometimes found in other plant families.', 'alcohol': 0, 'type': 'Flower', 'percentage': None, 'imageUrl': 'https://cocktails.solvro.pl/images/ingredients/mint.png', 'createdAt': '2024-08-18T19:02:47.000+00:00', 'updatedAt': '2024-08-18T19:02:47.000+00:00', 'measure': '2-4 '}, {'id': 476, 'name': 'Sugar', 'description': 'Sugar is the generic name for sweet-tasting, soluble carbohydrates, many of which are used in food.', 'alcohol': 0, 'type': None, 'percentage': None, 'imageUrl': 'https://cocktails.solvro.pl/images/ingredients/sugar.png', 'createdAt': '2024-08-18T19:03:31.000+00:00', 'updatedAt': '2024-08-18T19:03:31.000+00:00', 'measure': '2 tsp '}]\n"
     ]
    },
    {
     "name": "stderr",
     "output_type": "stream",
     "text": [
      "C:\\Users\\domci\\AppData\\Local\\Temp\\ipykernel_17780\\2726895556.py:1: FutureWarning: Series.__getitem__ treating keys as positions is deprecated. In a future version, integer keys will always be treated as labels (consistent with DataFrame behavior). To access a value by position, use `ser.iloc[pos]`\n",
      "  print(df.iloc[0][10])\n"
     ]
    }
   ],
   "source": [
    "print(df.iloc[0][10])"
   ]
  }
 ],
 "metadata": {
  "kernelspec": {
   "display_name": "Python 3 (ipykernel)",
   "language": "python",
   "name": "python3"
  },
  "language_info": {
   "codemirror_mode": {
    "name": "ipython",
    "version": 3
   },
   "file_extension": ".py",
   "mimetype": "text/x-python",
   "name": "python",
   "nbconvert_exporter": "python",
   "pygments_lexer": "ipython3",
   "version": "3.12.4"
  }
 },
 "nbformat": 4,
 "nbformat_minor": 5
}
