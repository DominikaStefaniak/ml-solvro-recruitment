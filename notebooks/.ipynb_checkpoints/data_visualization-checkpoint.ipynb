{
 "cells": [
  {
   "cell_type": "markdown",
   "id": "006af0dd-63c4-46e3-94b0-2148fa4ba59a",
   "metadata": {},
   "source": [
    "# Data visualization of the final dataframe"
   ]
  },
  {
   "cell_type": "code",
   "execution_count": 4,
   "id": "4ebc3d89-dacb-4f1b-91cb-9efe77f59544",
   "metadata": {},
   "outputs": [],
   "source": [
    "import pandas as pd\n",
    "import matplotlib.pyplot as plt"
   ]
  },
  {
   "cell_type": "code",
   "execution_count": 3,
   "id": "0a07b7ff-7c50-471c-94df-f16f6e414651",
   "metadata": {},
   "outputs": [
    {
     "data": {
      "text/plain": [
       "'29'"
      ]
     },
     "execution_count": 3,
     "metadata": {},
     "output_type": "execute_result"
    }
   ],
   "source": [
    "df = pd.read_parquet()"
   ]
  },
  {
   "cell_type": "markdown",
   "id": "7675b334-86bb-4729-8df2-3e11b72c7745",
   "metadata": {},
   "source": [
    "#### Heatmap to show corealtions i=between distinct columns"
   ]
  },
  {
   "cell_type": "code",
   "execution_count": null,
   "id": "9e63e0c9-c45d-4ace-b7b6-9eb474e9e860",
   "metadata": {},
   "outputs": [],
   "source": []
  }
 ],
 "metadata": {
  "kernelspec": {
   "display_name": "Python 3 (ipykernel)",
   "language": "python",
   "name": "python3"
  },
  "language_info": {
   "codemirror_mode": {
    "name": "ipython",
    "version": 3
   },
   "file_extension": ".py",
   "mimetype": "text/x-python",
   "name": "python",
   "nbconvert_exporter": "python",
   "pygments_lexer": "ipython3",
   "version": "3.12.4"
  }
 },
 "nbformat": 4,
 "nbformat_minor": 5
}
