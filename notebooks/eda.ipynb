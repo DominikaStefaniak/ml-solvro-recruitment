{
 "cells": [
  {
   "cell_type": "markdown",
   "id": "17f0d0d8-2070-4cc6-953a-45e52605e82f",
   "metadata": {},
   "source": [
    "# Cocktails"
   ]
  },
  {
   "cell_type": "code",
   "execution_count": 2,
   "id": "23988a84-d57c-475c-8d42-b82ba7658d97",
   "metadata": {},
   "outputs": [],
   "source": [
    "import pandas as pd\n",
    "import matplotlib.pyplot as plt\n",
    "import seaborn as sns"
   ]
  },
  {
   "cell_type": "markdown",
   "id": "c0c24ae1-20d5-4a93-ab4a-a7f42d89c618",
   "metadata": {},
   "source": [
    "#### Import data using pandas"
   ]
  },
  {
   "cell_type": "code",
   "execution_count": 4,
   "id": "8fdee3ef-c9e5-4a7a-bcb5-88ef5b347906",
   "metadata": {},
   "outputs": [
    {
     "data": {
      "text/html": [
       "<div>\n",
       "<style scoped>\n",
       "    .dataframe tbody tr th:only-of-type {\n",
       "        vertical-align: middle;\n",
       "    }\n",
       "\n",
       "    .dataframe tbody tr th {\n",
       "        vertical-align: top;\n",
       "    }\n",
       "\n",
       "    .dataframe thead th {\n",
       "        text-align: right;\n",
       "    }\n",
       "</style>\n",
       "<table border=\"1\" class=\"dataframe\">\n",
       "  <thead>\n",
       "    <tr style=\"text-align: right;\">\n",
       "      <th></th>\n",
       "      <th>31</th>\n",
       "      <th>85</th>\n",
       "    </tr>\n",
       "  </thead>\n",
       "  <tbody>\n",
       "    <tr>\n",
       "      <th>id</th>\n",
       "      <td>11053</td>\n",
       "      <td>11416</td>\n",
       "    </tr>\n",
       "    <tr>\n",
       "      <th>name</th>\n",
       "      <td>Arise My Love</td>\n",
       "      <td>Gin Smash</td>\n",
       "    </tr>\n",
       "    <tr>\n",
       "      <th>category</th>\n",
       "      <td>Ordinary Drink</td>\n",
       "      <td>Ordinary Drink</td>\n",
       "    </tr>\n",
       "    <tr>\n",
       "      <th>glass</th>\n",
       "      <td>Champagne flute</td>\n",
       "      <td>Old-fashioned glass</td>\n",
       "    </tr>\n",
       "    <tr>\n",
       "      <th>tags</th>\n",
       "      <td>None</td>\n",
       "      <td>[Citrus, StrongFlavor]</td>\n",
       "    </tr>\n",
       "    <tr>\n",
       "      <th>instructions</th>\n",
       "      <td>Put creme de menthe into a champagne flute. Fi...</td>\n",
       "      <td>Muddle sugar with carbonated water and mint sp...</td>\n",
       "    </tr>\n",
       "    <tr>\n",
       "      <th>imageUrl</th>\n",
       "      <td>https://cocktails.solvro.pl/images/ingredients...</td>\n",
       "      <td>https://cocktails.solvro.pl/images/ingredients...</td>\n",
       "    </tr>\n",
       "    <tr>\n",
       "      <th>alcoholic</th>\n",
       "      <td>1</td>\n",
       "      <td>1</td>\n",
       "    </tr>\n",
       "    <tr>\n",
       "      <th>createdAt</th>\n",
       "      <td>2024-08-18T19:06:36.000+00:00</td>\n",
       "      <td>2024-08-18T19:08:40.000+00:00</td>\n",
       "    </tr>\n",
       "    <tr>\n",
       "      <th>updatedAt</th>\n",
       "      <td>2024-08-18T19:06:36.000+00:00</td>\n",
       "      <td>2024-08-18T19:08:40.000+00:00</td>\n",
       "    </tr>\n",
       "    <tr>\n",
       "      <th>ingredients</th>\n",
       "      <td>[{'id': 97, 'name': 'Champagne', 'description'...</td>\n",
       "      <td>[{'id': 2, 'name': 'Gin', 'description': 'Gin ...</td>\n",
       "    </tr>\n",
       "  </tbody>\n",
       "</table>\n",
       "</div>"
      ],
      "text/plain": [
       "                                                             31  \\\n",
       "id                                                        11053   \n",
       "name                                              Arise My Love   \n",
       "category                                         Ordinary Drink   \n",
       "glass                                           Champagne flute   \n",
       "tags                                                       None   \n",
       "instructions  Put creme de menthe into a champagne flute. Fi...   \n",
       "imageUrl      https://cocktails.solvro.pl/images/ingredients...   \n",
       "alcoholic                                                     1   \n",
       "createdAt                         2024-08-18T19:06:36.000+00:00   \n",
       "updatedAt                         2024-08-18T19:06:36.000+00:00   \n",
       "ingredients   [{'id': 97, 'name': 'Champagne', 'description'...   \n",
       "\n",
       "                                                             85  \n",
       "id                                                        11416  \n",
       "name                                                  Gin Smash  \n",
       "category                                         Ordinary Drink  \n",
       "glass                                       Old-fashioned glass  \n",
       "tags                                     [Citrus, StrongFlavor]  \n",
       "instructions  Muddle sugar with carbonated water and mint sp...  \n",
       "imageUrl      https://cocktails.solvro.pl/images/ingredients...  \n",
       "alcoholic                                                     1  \n",
       "createdAt                         2024-08-18T19:08:40.000+00:00  \n",
       "updatedAt                         2024-08-18T19:08:40.000+00:00  \n",
       "ingredients   [{'id': 2, 'name': 'Gin', 'description': 'Gin ...  "
      ]
     },
     "execution_count": 4,
     "metadata": {},
     "output_type": "execute_result"
    }
   ],
   "source": [
    "df = pd.read_json(\"C:/Users/domci/PycharmProjects/ml-solvro-recruitment/data/cocktail_dataset.json\")\n",
    "\n",
    "df.sample(n=2).T"
   ]
  },
  {
   "cell_type": "code",
   "execution_count": 5,
   "id": "4675de25-b6a4-40d3-82f7-de5a0a8faedf",
   "metadata": {},
   "outputs": [
    {
     "data": {
      "text/html": [
       "<div>\n",
       "<style scoped>\n",
       "    .dataframe tbody tr th:only-of-type {\n",
       "        vertical-align: middle;\n",
       "    }\n",
       "\n",
       "    .dataframe tbody tr th {\n",
       "        vertical-align: top;\n",
       "    }\n",
       "\n",
       "    .dataframe thead th {\n",
       "        text-align: right;\n",
       "    }\n",
       "</style>\n",
       "<table border=\"1\" class=\"dataframe\">\n",
       "  <thead>\n",
       "    <tr style=\"text-align: right;\">\n",
       "      <th></th>\n",
       "      <th>0</th>\n",
       "      <th>1</th>\n",
       "      <th>2</th>\n",
       "    </tr>\n",
       "  </thead>\n",
       "  <tbody>\n",
       "    <tr>\n",
       "      <th>id</th>\n",
       "      <td>11000</td>\n",
       "      <td>11001</td>\n",
       "      <td>11002</td>\n",
       "    </tr>\n",
       "    <tr>\n",
       "      <th>name</th>\n",
       "      <td>Mojito</td>\n",
       "      <td>Old Fashioned</td>\n",
       "      <td>Long Island Tea</td>\n",
       "    </tr>\n",
       "    <tr>\n",
       "      <th>category</th>\n",
       "      <td>Cocktail</td>\n",
       "      <td>Cocktail</td>\n",
       "      <td>Ordinary Drink</td>\n",
       "    </tr>\n",
       "    <tr>\n",
       "      <th>glass</th>\n",
       "      <td>Highball glass</td>\n",
       "      <td>Old-fashioned glass</td>\n",
       "      <td>Highball glass</td>\n",
       "    </tr>\n",
       "    <tr>\n",
       "      <th>tags</th>\n",
       "      <td>[IBA, ContemporaryClassic, Alcoholic, USA, Asi...</td>\n",
       "      <td>[IBA, Classic, Alcoholic, Expensive, Savory]</td>\n",
       "      <td>[Strong, Asia, StrongFlavor, Brunch, Vegetaria...</td>\n",
       "    </tr>\n",
       "    <tr>\n",
       "      <th>instructions</th>\n",
       "      <td>Muddle mint leaves with sugar and lime juice. ...</td>\n",
       "      <td>Place sugar cube in old fashioned glass and sa...</td>\n",
       "      <td>Combine all ingredients (except cola) and pour...</td>\n",
       "    </tr>\n",
       "    <tr>\n",
       "      <th>imageUrl</th>\n",
       "      <td>https://cocktails.solvro.pl/images/ingredients...</td>\n",
       "      <td>https://cocktails.solvro.pl/images/ingredients...</td>\n",
       "      <td>https://cocktails.solvro.pl/images/ingredients...</td>\n",
       "    </tr>\n",
       "    <tr>\n",
       "      <th>alcoholic</th>\n",
       "      <td>1</td>\n",
       "      <td>1</td>\n",
       "      <td>1</td>\n",
       "    </tr>\n",
       "    <tr>\n",
       "      <th>createdAt</th>\n",
       "      <td>2024-08-18T19:01:17.000+00:00</td>\n",
       "      <td>2024-08-18T19:01:58.000+00:00</td>\n",
       "      <td>2024-08-18T19:01:58.000+00:00</td>\n",
       "    </tr>\n",
       "    <tr>\n",
       "      <th>updatedAt</th>\n",
       "      <td>2024-08-18T19:06:16.000+00:00</td>\n",
       "      <td>2024-08-18T19:06:17.000+00:00</td>\n",
       "      <td>2024-08-18T19:06:17.000+00:00</td>\n",
       "    </tr>\n",
       "    <tr>\n",
       "      <th>ingredients</th>\n",
       "      <td>[{'id': 170, 'name': 'Soda water', 'descriptio...</td>\n",
       "      <td>[{'id': 513, 'name': 'Water', 'description': '...</td>\n",
       "      <td>[{'id': 305, 'name': 'Light Rum', 'description...</td>\n",
       "    </tr>\n",
       "  </tbody>\n",
       "</table>\n",
       "</div>"
      ],
      "text/plain": [
       "                                                              0  \\\n",
       "id                                                        11000   \n",
       "name                                                     Mojito   \n",
       "category                                               Cocktail   \n",
       "glass                                            Highball glass   \n",
       "tags          [IBA, ContemporaryClassic, Alcoholic, USA, Asi...   \n",
       "instructions  Muddle mint leaves with sugar and lime juice. ...   \n",
       "imageUrl      https://cocktails.solvro.pl/images/ingredients...   \n",
       "alcoholic                                                     1   \n",
       "createdAt                         2024-08-18T19:01:17.000+00:00   \n",
       "updatedAt                         2024-08-18T19:06:16.000+00:00   \n",
       "ingredients   [{'id': 170, 'name': 'Soda water', 'descriptio...   \n",
       "\n",
       "                                                              1  \\\n",
       "id                                                        11001   \n",
       "name                                              Old Fashioned   \n",
       "category                                               Cocktail   \n",
       "glass                                       Old-fashioned glass   \n",
       "tags               [IBA, Classic, Alcoholic, Expensive, Savory]   \n",
       "instructions  Place sugar cube in old fashioned glass and sa...   \n",
       "imageUrl      https://cocktails.solvro.pl/images/ingredients...   \n",
       "alcoholic                                                     1   \n",
       "createdAt                         2024-08-18T19:01:58.000+00:00   \n",
       "updatedAt                         2024-08-18T19:06:17.000+00:00   \n",
       "ingredients   [{'id': 513, 'name': 'Water', 'description': '...   \n",
       "\n",
       "                                                              2  \n",
       "id                                                        11002  \n",
       "name                                            Long Island Tea  \n",
       "category                                         Ordinary Drink  \n",
       "glass                                            Highball glass  \n",
       "tags          [Strong, Asia, StrongFlavor, Brunch, Vegetaria...  \n",
       "instructions  Combine all ingredients (except cola) and pour...  \n",
       "imageUrl      https://cocktails.solvro.pl/images/ingredients...  \n",
       "alcoholic                                                     1  \n",
       "createdAt                         2024-08-18T19:01:58.000+00:00  \n",
       "updatedAt                         2024-08-18T19:06:17.000+00:00  \n",
       "ingredients   [{'id': 305, 'name': 'Light Rum', 'description...  "
      ]
     },
     "execution_count": 5,
     "metadata": {},
     "output_type": "execute_result"
    }
   ],
   "source": [
    "df.head(n=3).T"
   ]
  },
  {
   "cell_type": "markdown",
   "id": "23d21c79-8771-4329-a075-3a1bd093f115",
   "metadata": {},
   "source": [
    "## Preliminary inspection"
   ]
  },
  {
   "cell_type": "code",
   "execution_count": 7,
   "id": "598d4a13-58c0-4d09-ac41-8501d5c3de63",
   "metadata": {},
   "outputs": [
    {
     "name": "stdout",
     "output_type": "stream",
     "text": [
      "<class 'pandas.core.frame.DataFrame'>\n",
      "RangeIndex: 134 entries, 0 to 133\n",
      "Data columns (total 11 columns):\n",
      " #   Column        Non-Null Count  Dtype \n",
      "---  ------        --------------  ----- \n",
      " 0   id            134 non-null    int64 \n",
      " 1   name          134 non-null    object\n",
      " 2   category      134 non-null    object\n",
      " 3   glass         134 non-null    object\n",
      " 4   tags          35 non-null     object\n",
      " 5   instructions  134 non-null    object\n",
      " 6   imageUrl      134 non-null    object\n",
      " 7   alcoholic     134 non-null    int64 \n",
      " 8   createdAt     134 non-null    object\n",
      " 9   updatedAt     134 non-null    object\n",
      " 10  ingredients   134 non-null    object\n",
      "dtypes: int64(2), object(9)\n",
      "memory usage: 11.6+ KB\n"
     ]
    }
   ],
   "source": [
    "df.info()"
   ]
  },
  {
   "cell_type": "code",
   "execution_count": 8,
   "id": "a0ebbd0f-06d2-4868-92c9-f2a0761dad5c",
   "metadata": {},
   "outputs": [
    {
     "data": {
      "text/html": [
       "<div>\n",
       "<style scoped>\n",
       "    .dataframe tbody tr th:only-of-type {\n",
       "        vertical-align: middle;\n",
       "    }\n",
       "\n",
       "    .dataframe tbody tr th {\n",
       "        vertical-align: top;\n",
       "    }\n",
       "\n",
       "    .dataframe thead th {\n",
       "        text-align: right;\n",
       "    }\n",
       "</style>\n",
       "<table border=\"1\" class=\"dataframe\">\n",
       "  <thead>\n",
       "    <tr style=\"text-align: right;\">\n",
       "      <th></th>\n",
       "      <th>id</th>\n",
       "      <th>alcoholic</th>\n",
       "    </tr>\n",
       "  </thead>\n",
       "  <tbody>\n",
       "    <tr>\n",
       "      <th>count</th>\n",
       "      <td>134.000000</td>\n",
       "      <td>134.0</td>\n",
       "    </tr>\n",
       "    <tr>\n",
       "      <th>mean</th>\n",
       "      <td>11344.955224</td>\n",
       "      <td>1.0</td>\n",
       "    </tr>\n",
       "    <tr>\n",
       "      <th>std</th>\n",
       "      <td>306.506605</td>\n",
       "      <td>0.0</td>\n",
       "    </tr>\n",
       "    <tr>\n",
       "      <th>min</th>\n",
       "      <td>11000.000000</td>\n",
       "      <td>1.0</td>\n",
       "    </tr>\n",
       "    <tr>\n",
       "      <th>25%</th>\n",
       "      <td>11056.250000</td>\n",
       "      <td>1.0</td>\n",
       "    </tr>\n",
       "    <tr>\n",
       "      <th>50%</th>\n",
       "      <td>11304.000000</td>\n",
       "      <td>1.0</td>\n",
       "    </tr>\n",
       "    <tr>\n",
       "      <th>75%</th>\n",
       "      <td>11538.500000</td>\n",
       "      <td>1.0</td>\n",
       "    </tr>\n",
       "    <tr>\n",
       "      <th>max</th>\n",
       "      <td>11993.000000</td>\n",
       "      <td>1.0</td>\n",
       "    </tr>\n",
       "  </tbody>\n",
       "</table>\n",
       "</div>"
      ],
      "text/plain": [
       "                 id  alcoholic\n",
       "count    134.000000      134.0\n",
       "mean   11344.955224        1.0\n",
       "std      306.506605        0.0\n",
       "min    11000.000000        1.0\n",
       "25%    11056.250000        1.0\n",
       "50%    11304.000000        1.0\n",
       "75%    11538.500000        1.0\n",
       "max    11993.000000        1.0"
      ]
     },
     "execution_count": 8,
     "metadata": {},
     "output_type": "execute_result"
    }
   ],
   "source": [
    "df.describe()"
   ]
  },
  {
   "cell_type": "markdown",
   "id": "90c47534-ef27-404c-9a7c-328c1a68767c",
   "metadata": {},
   "source": [
    "### General observations:\n",
    "1. List datatype is not useful as it is and needs handling\n",
    "2. Change categorical columns to category datatype\n",
    "3. A lot of values in the tags column are missing\n",
    "4. Out of 11 columns, only two of them are numeric\n",
    "5. Columns with categorical datatype needs encoding\n",
    "6. There will be no use from Instructions and ImageUrl columns, because there are no key numeric values to be extracted"
   ]
  },
  {
   "cell_type": "markdown",
   "id": "6173c65f-9263-4ec9-ac33-52e8bb77edbd",
   "metadata": {},
   "source": [
    "#### Check for unique tags"
   ]
  },
  {
   "cell_type": "code",
   "execution_count": 11,
   "id": "8bbd77cf-2386-4b7e-b903-eb92a729223a",
   "metadata": {},
   "outputs": [
    {
     "data": {
      "text/plain": [
       "array(['IBA', 'ContemporaryClassic', 'Alcoholic', 'USA', 'Asia', 'Vegan',\n",
       "       'Citrus', 'Brunch', 'Hangover', 'Mild', 'Classic', 'Expensive',\n",
       "       'Savory', 'Strong', 'StrongFlavor', 'Vegetarian', 'Sour',\n",
       "       'Christmas', 'Beach', 'DinnerParty', nan, 'Summer', 'Chilli',\n",
       "       'Dairy', 'Nutty', 'Cold', 'Fruity', 'Breakfast', 'NewEra'],\n",
       "      dtype=object)"
      ]
     },
     "execution_count": 11,
     "metadata": {},
     "output_type": "execute_result"
    }
   ],
   "source": [
    "unique_tags = df['tags'].apply(lambda x: x if isinstance(x, list) else []).explode().unique()\n",
    "unique_tags"
   ]
  },
  {
   "cell_type": "code",
   "execution_count": 12,
   "id": "9a7016b9-2be4-4fe9-acbb-7f1b52ae3fa6",
   "metadata": {},
   "outputs": [
    {
     "data": {
      "text/plain": [
       "tags\n",
       "IBA                    23\n",
       "ContemporaryClassic    13\n",
       "Classic                 9\n",
       "Alcoholic               6\n",
       "Beach                   3\n",
       "Brunch                  3\n",
       "Dairy                   2\n",
       "Sour                    2\n",
       "StrongFlavor            2\n",
       "Asia                    2\n",
       "Citrus                  2\n",
       "Hangover                2\n",
       "Summer                  1\n",
       "Breakfast               1\n",
       "Fruity                  1\n",
       "Cold                    1\n",
       "Nutty                   1\n",
       "USA                     1\n",
       "Chilli                  1\n",
       "Mild                    1\n",
       "DinnerParty             1\n",
       "Christmas               1\n",
       "Vegan                   1\n",
       "Vegetarian              1\n",
       "Strong                  1\n",
       "Savory                  1\n",
       "Expensive               1\n",
       "NewEra                  1\n",
       "Name: count, dtype: int64"
      ]
     },
     "execution_count": 12,
     "metadata": {},
     "output_type": "execute_result"
    }
   ],
   "source": [
    "tag_counts = df['tags'].apply(lambda x: x if isinstance(x, list) else []).explode().value_counts()\n",
    "tag_counts"
   ]
  },
  {
   "cell_type": "markdown",
   "id": "e59453ef-9e9e-42bb-9154-d9138913fa26",
   "metadata": {},
   "source": [
    "#### Tags column\n",
    "1. Some of the tags overlap already existing columns like alcoholic or category\n",
    "2. Create new one hot encoded columns for iba since it appears most often and provides usefull, not duplicated information\n",
    "3. Missing data: for the cocktails that has no data about the tags, assume that it's not the iba list cocktail, beacuse there is no way to additionaly get that information from the data we aquire"
   ]
  },
  {
   "cell_type": "markdown",
   "id": "72a747df-3829-44a8-9bdf-7123a4f971de",
   "metadata": {},
   "source": [
    "#### Print a sample value in the instructions column to see what may be extracted"
   ]
  },
  {
   "cell_type": "code",
   "execution_count": 15,
   "id": "f9257c22-af54-486c-a78b-a91b33687a90",
   "metadata": {},
   "outputs": [
    {
     "name": "stdout",
     "output_type": "stream",
     "text": [
      "[{'id': 170, 'name': 'Soda water', 'description': None, 'alcohol': 1, 'type': None, 'percentage': None, 'imageUrl': None, 'createdAt': '2024-08-18T19:01:57.000+00:00', 'updatedAt': '2024-08-18T19:01:57.000+00:00'}, {'id': 305, 'name': 'Light Rum', 'description': 'Light rums, also referred to as \"silver\" or \"white\" rums, in general, have very little flavor aside from a general sweetness. Light rums are sometimes filtered after aging to remove any colour. The majority of light rums come from Puerto Rico. Their milder flavors make them popular for use in mixed drinks, as opposed to drinking them straight. Light rums are included in some of the most popular cocktails including the Mojito and the Daiquiri.', 'alcohol': 1, 'type': 'Rum', 'percentage': None, 'imageUrl': 'https://cocktails.solvro.pl/images/ingredients/light-rum.png', 'createdAt': '2024-08-18T19:02:37.000+00:00', 'updatedAt': '2024-08-18T19:02:37.000+00:00', 'measure': '2-3 oz '}, {'id': 312, 'name': 'Lime', 'description': 'A lime (from French lime, from Arabic līma, from Persian līmū, \"lemon\") is a hybrid citrus fruit, which is typically round, lime green, 3–6 centimetres (1.2–2.4 in) in diameter, and contains acidic juice vesicles.\\r\\n\\r\\nThere are several species of citrus trees whose fruits are called limes, including the Key lime (Citrus aurantifolia), Persian lime, kaffir lime, and desert lime. Limes are an excellent source of vitamin C, and are often used to accent the flavours of foods and beverages. They are grown year-round. Plants with fruit called \"limes\" have diverse genetic origins; limes do not form a monophyletic group.\\r\\n', 'alcohol': 0, 'type': 'Fruit', 'percentage': None, 'imageUrl': 'https://cocktails.solvro.pl/images/ingredients/lime.png', 'createdAt': '2024-08-18T19:02:40.000+00:00', 'updatedAt': '2024-08-18T19:02:40.000+00:00', 'measure': 'Juice of 1 '}, {'id': 337, 'name': 'Mint', 'description': 'Lamiaceae (/ˌleɪmiˈeɪsiˌaɪ/ or /ˌleɪmiˈeɪsiiː/) or Labiatae is a family of flowering plants commonly known as the mint or deadnettle family. Many of the plants are aromatic in all parts and include widely used culinary herbs, such as basil, mint, rosemary, sage, savory, marjoram, oregano, hyssop, thyme, lavender, and perilla. Some species are shrubs, trees (such as teak), or, rarely, vines. Many members of the family are widely cultivated, not only for their aromatic qualities but also their ease of cultivation, since they are readily propagated by stem cuttings. Besides those grown for their edible leaves, some are grown for decorative foliage, such as Coleus. Others are grown for seed, such as Salvia hispanica (chia), or for their edible tubers, such as Plectranthus edulis, Plectranthus esculentus, Plectranthus rotundifolius, and Stachys affinis (Chinese artichoke).\\r\\n\\r\\nThe family has a cosmopolitan distribution. The enlarged Lamiaceae contains about 236 genera and has been stated to contain 6,900 to 7,200 species, but the World Checklist lists 7,534. The largest genera are Salvia (900), Scutellaria (360), Stachys (300), Plectranthus (300), Hyptis (280), Teucrium (250), Vitex (250), Thymus (220), and Nepeta (200). Clerodendrum was once a genus of over 400 species, but by 2010, it had been narrowed to about 150.\\r\\n\\r\\nThe family has traditionally been considered closely related to the Verbenaceae; in the 1990s, phylogenetic studies suggested that many genera classified in the Verbenaceae should be classified in the Lamiaceae  or to other families in the order Lamiales.\\r\\n\\r\\nThe alternate family name Labiatae refers to the fact that the flowers typically have petals fused into an upper lip and a lower lip (labia in Latin). The flowers are bilaterally symmetrical with five united petals and five united sepals. They are usually bisexual and verticillastrate (a flower cluster that looks like a whorl of flowers, but actually consists of two crowded clusters). Although this is still considered an acceptable alternative name, most botanists now use the name Lamiaceae in referring to this family. The leaves emerge oppositely, each pair at right angles to the previous one (decussate) or whorled. The stems are frequently square in cross section, but this is not found in all members of the family, and is sometimes found in other plant families.', 'alcohol': 0, 'type': 'Flower', 'percentage': None, 'imageUrl': 'https://cocktails.solvro.pl/images/ingredients/mint.png', 'createdAt': '2024-08-18T19:02:47.000+00:00', 'updatedAt': '2024-08-18T19:02:47.000+00:00', 'measure': '2-4 '}, {'id': 476, 'name': 'Sugar', 'description': 'Sugar is the generic name for sweet-tasting, soluble carbohydrates, many of which are used in food.', 'alcohol': 0, 'type': None, 'percentage': None, 'imageUrl': 'https://cocktails.solvro.pl/images/ingredients/sugar.png', 'createdAt': '2024-08-18T19:03:31.000+00:00', 'updatedAt': '2024-08-18T19:03:31.000+00:00', 'measure': '2 tsp '}]\n"
     ]
    },
    {
     "name": "stderr",
     "output_type": "stream",
     "text": [
      "C:\\Users\\domci\\AppData\\Local\\Temp\\ipykernel_18180\\2726895556.py:1: FutureWarning: Series.__getitem__ treating keys as positions is deprecated. In a future version, integer keys will always be treated as labels (consistent with DataFrame behavior). To access a value by position, use `ser.iloc[pos]`\n",
      "  print(df.iloc[0][10])\n"
     ]
    }
   ],
   "source": [
    "print(df.iloc[0][10])"
   ]
  },
  {
   "cell_type": "code",
   "execution_count": 79,
   "id": "7ee5afb9-1468-41ad-a825-0ae8f8bfc54c",
   "metadata": {},
   "outputs": [
    {
     "data": {
      "text/plain": [
       "{'Gin': 45,\n",
       " 'Light Rum': 20,\n",
       " 'Triple Sec': 20,\n",
       " 'Sugar': 19,\n",
       " 'Lemon Juice': 19,\n",
       " 'lemon': 17,\n",
       " 'Powdered Sugar': 17,\n",
       " 'Lemon Peel': 17,\n",
       " 'Lime': 15,\n",
       " 'Dry Vermouth': 14,\n",
       " 'Carbonated Water': 13,\n",
       " 'Vodka': 12,\n",
       " 'Sweet Vermouth': 12,\n",
       " 'Cherry': 12,\n",
       " 'Amaretto': 12,\n",
       " 'Light Cream': 12,\n",
       " 'Brandy': 12,\n",
       " 'Bourbon': 11,\n",
       " 'Lime Juice': 11,\n",
       " 'Bitters': 11,\n",
       " 'Grenadine': 10,\n",
       " 'Maraschino Cherry': 9,\n",
       " 'Orange': 9,\n",
       " 'Blended Whiskey': 8,\n",
       " 'Egg White': 8,\n",
       " 'Scotch': 7,\n",
       " 'Creme De Cacao': 6,\n",
       " 'Benedictine': 6,\n",
       " 'Water': 5,\n",
       " 'Apricot Brandy': 5,\n",
       " 'Orange Bitters': 5,\n",
       " 'Nutmeg': 5,\n",
       " 'Pineapple Juice': 5,\n",
       " 'Club Soda': 5,\n",
       " 'Tequila': 4,\n",
       " 'Dark Rum': 4,\n",
       " 'Orange Juice': 4,\n",
       " 'Maraschino Liqueur': 4,\n",
       " 'Port': 4,\n",
       " 'Mint': 3,\n",
       " 'Olive': 3,\n",
       " 'Ginger Ale': 3,\n",
       " 'Sloe Gin': 3,\n",
       " 'Kahlua': 3,\n",
       " 'Blue Curacao': 3,\n",
       " 'Pineapple': 3,\n",
       " 'Angostura Bitters': 2,\n",
       " 'Coca-Cola': 2,\n",
       " 'Salt': 2,\n",
       " 'Ice': 2,\n",
       " 'Orange Peel': 2,\n",
       " 'Yellow Chartreuse': 2,\n",
       " 'Apple Brandy': 2,\n",
       " 'Wine': 2,\n",
       " 'Champagne': 2,\n",
       " 'Green Creme de Menthe': 2,\n",
       " 'Tabasco Sauce': 2,\n",
       " 'Tomato Juice': 2,\n",
       " 'Tia Maria': 2,\n",
       " 'Egg': 2,\n",
       " 'Cherry Brandy': 2,\n",
       " 'Orange spiral': 2,\n",
       " 'Heavy cream': 2,\n",
       " 'Sweet and Sour': 2,\n",
       " 'Red Wine': 2,\n",
       " 'Sherry': 2,\n",
       " 'Soda water': 1,\n",
       " 'Campari': 1,\n",
       " 'Southern Comfort': 1,\n",
       " 'Lemon vodka': 1,\n",
       " 'Blackberry Brandy': 1,\n",
       " 'Kummel': 1,\n",
       " 'White Creme de Menthe': 1,\n",
       " 'Tea': 1,\n",
       " 'Whipped Cream': 1,\n",
       " 'Applejack': 1,\n",
       " 'Grand Marnier': 1,\n",
       " 'Banana': 1,\n",
       " 'Coffee Liqueur': 1,\n",
       " 'Celery Salt': 1,\n",
       " 'Worcestershire Sauce': 1,\n",
       " 'Lemonade': 1,\n",
       " 'Añejo Rum': 1,\n",
       " 'Cachaca': 1,\n",
       " 'Egg Yolk': 1,\n",
       " 'Cognac': 1,\n",
       " 'Chocolate Ice-cream': 1,\n",
       " 'Dubonnet Rouge': 1,\n",
       " 'Sugar Syrup': 1,\n",
       " 'Tonic Water': 1,\n",
       " 'Strawberries': 1,\n",
       " 'Galliano': 1,\n",
       " 'Irish Whiskey': 1,\n",
       " 'Peach brandy': 1,\n",
       " 'Green Chartreuse': 1,\n",
       " 'Drambuie': 1,\n",
       " 'Orgeat Syrup': 1,\n",
       " 'Grapefruit Juice': 1,\n",
       " 'Raspberry syrup': 1,\n",
       " 'Coffee Brandy': 1,\n",
       " 'Lime vodka': 1,\n",
       " 'Lemon-lime soda': 1}"
      ]
     },
     "execution_count": 79,
     "metadata": {},
     "output_type": "execute_result"
    }
   ],
   "source": [
    "items_counter = {}\n",
    "for list_of_items in df[\"ingredients\"]:\n",
    "    for item in list_of_items:\n",
    "        key_value = item[\"name\"]\n",
    "        if key_value in items_counter:\n",
    "            items_counter[key_value] += 1\n",
    "        else:\n",
    "            items_counter[key_value] = 1\n",
    "\n",
    "dict(sorted(counter_ingredients.items(), key=lambda item: item[1], reverse=True))"
   ]
  },
  {
   "cell_type": "code",
   "execution_count": 17,
   "id": "b90bef65-6f0d-4da3-9e87-cdda54627102",
   "metadata": {},
   "outputs": [
    {
     "data": {
      "text/plain": [
       "102"
      ]
     },
     "execution_count": 17,
     "metadata": {},
     "output_type": "execute_result"
    }
   ],
   "source": [
    "len(set(ingredient_list))"
   ]
  },
  {
   "cell_type": "markdown",
   "id": "6ed506fe-9e7e-4a29-a1f1-3bcd41dc6474",
   "metadata": {},
   "source": [
    "#### Handling ingredients column\n",
    "1. Extract an information about the number of ingredients in each drink.\n",
    "2. There are over a 100 unique ingredients so one-hot-encoding would increase the dimensionality of the dataframe too much. In order to prevent it encode only 20 most used ingredients (ingredients that occured over 10 times)."
   ]
  },
  {
   "cell_type": "markdown",
   "id": "c0a21242-1b51-4eb5-a841-fc4e8cc7a52b",
   "metadata": {},
   "source": [
    "## Data visualization for more conclusions"
   ]
  },
  {
   "cell_type": "markdown",
   "id": "6a1dd83f-c59f-40db-b18a-be1df6ecbc0d",
   "metadata": {},
   "source": [
    "#### Plots of categorical data to observe the spread"
   ]
  },
  {
   "cell_type": "code",
   "execution_count": 21,
   "id": "f6593e76-1c5a-4e79-ab70-a44ed86733e5",
   "metadata": {},
   "outputs": [
    {
     "data": {
      "image/png": "[encoded data removed]",
      "text/plain": [
       "<Figure size 1000x400 with 2 Axes>"
      ]
     },
     "metadata": {},
     "output_type": "display_data"
    }
   ],
   "source": [
    "fig, axes = plt.subplots(1, 2, figsize = (10, 4))\n",
    "\n",
    "sns.countplot(x = 'category', data = df, ax = axes[0])\n",
    "axes[0].set_title('Cocktail Categories')\n",
    "\n",
    "sns.countplot(y = 'glass', data = df, ax = axes[1])\n",
    "axes[1].set_title('Glass Types')\n",
    "\n",
    "for container in axes[1].containers:\n",
    "    axes[1].bar_label(container, label_type='edge')\n",
    "\n",
    "for container in axes[0].containers:\n",
    "    axes[0].bar_label(container, label_type='edge')\n",
    "\n",
    "plt.tight_layout()\n",
    "\n",
    "plt.show()"
   ]
  },
  {
   "cell_type": "markdown",
   "id": "12b976d0-0901-422a-b07b-5db7f3585929",
   "metadata": {},
   "source": [
    "#### Conclusions for categories and glass types\n",
    "1. Possible one-hot-encoding for these categorical columns\n",
    "2. In order not to increase the dimensionality too much generalise some categories:\n",
    "   - For cocktail categories: since there are just 3 categories and 2 of them appear rarely transform them into one binary column ->  oridnary drink or other\n",
    "   - For glass types: generalise the categories that appear two times or less into \"others\" type"
   ]
  },
  {
   "cell_type": "markdown",
   "id": "5f710c0b-1325-48f9-80f0-cda51cdebf0d",
   "metadata": {},
   "source": [
    "#### Box Plot of a subsidiary column containig a number of ingredients for each cocktail"
   ]
  },
  {
   "cell_type": "code",
   "execution_count": 24,
   "id": "d386fc25-4d8b-43f8-9f56-8b463eedca04",
   "metadata": {},
   "outputs": [
    {
     "data": {
      "image/png": "[encoded data removed]",
      "text/plain": [
       "<Figure size 640x480 with 1 Axes>"
      ]
     },
     "metadata": {},
     "output_type": "display_data"
    }
   ],
   "source": [
    "df['num_ingredients'] = df['ingredients'].apply(len)\n",
    "\n",
    "sns.boxplot(x = 'num_ingredients', data=df)\n",
    "plt.title('Box Plot of Number of Ingredients per Cocktail')\n",
    "plt.show()"
   ]
  },
  {
   "cell_type": "markdown",
   "id": "b7f5b890-da33-4cda-9440-5e4a280dfedc",
   "metadata": {},
   "source": [
    "#### Conclusions\n",
    "There are no outliers to be handled"
   ]
  },
  {
   "cell_type": "markdown",
   "id": "122b3725-3368-4e90-95f1-9eb338a8115d",
   "metadata": {},
   "source": [
    "# Summary\n",
    "1. Change categorical columns datatype to category.\n",
    "2. Ingredients column:\n",
    "   - Extract the information about a number of ingredients to a separate column.\n",
    "   - Encode 20 most used ingredients.\n",
    "3. Category:\n",
    "   - One binary column that states whether the cocktail is ordinary or not.\n",
    "4. Glass:\n",
    "   - Generalize the categories that appear two times or less into \"others\" type.\n",
    "   - Perform one hot encoding.\n",
    "5. Delete Instructions, ImageUrl, createdAt and updatedAt columns to avoid unnecessary noise.\n",
    "6. Alcoholic.\n",
    "7. Tags:\n",
    "   - binary column for \"IBA\" tag"
   ]
  }
 ],
 "metadata": {
  "kernelspec": {
   "display_name": "Python 3 (ipykernel)",
   "language": "python",
   "name": "python3"
  },
  "language_info": {
   "codemirror_mode": {
    "name": "ipython",
    "version": 3
   },
   "file_extension": ".py",
   "mimetype": "text/x-python",
   "name": "python",
   "nbconvert_exporter": "python",
   "pygments_lexer": "ipython3",
   "version": "3.12.4"
  }
 },
 "nbformat": 4,
 "nbformat_minor": 5
}
